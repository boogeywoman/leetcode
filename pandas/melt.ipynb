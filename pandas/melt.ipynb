{
 "cells": [
  {
   "cell_type": "code",
   "execution_count": null,
   "metadata": {},
   "outputs": [],
   "source": [
    "#https://leetcode.com/problems/reshape-data-melt/description/\n",
    "import pandas as pd\n",
    "\n",
    "def meltTable(report: pd.DataFrame) -> pd.DataFrame:\n",
    "    return report.melt(id_vars=['product'],var_name='quarter',value_name  = 'sales')"
   ]
  }
 ],
 "metadata": {
  "language_info": {
   "name": "python"
  }
 },
 "nbformat": 4,
 "nbformat_minor": 2
}
