{
 "cells": [
  {
   "cell_type": "code",
   "execution_count": null,
   "metadata": {},
   "outputs": [],
   "source": [
    "#\n",
    "import pandas as pd\n",
    "\n",
    "def fillMissingValues(products: pd.DataFrame) -> pd.DataFrame:\n",
    "   products['quantity'].replace(nan,0,inplace=True) \n",
    "   return products"
   ]
  }
 ],
 "metadata": {
  "language_info": {
   "name": "python"
  }
 },
 "nbformat": 4,
 "nbformat_minor": 2
}
